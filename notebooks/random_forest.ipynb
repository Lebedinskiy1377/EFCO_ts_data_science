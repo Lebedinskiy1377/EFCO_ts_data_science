{
 "cells": [
  {
   "cell_type": "markdown",
   "source": [
    "Случайный лес - ансамблевый алгоритм машинного обучения над деревьями. В отличие от бустингов, деревья в этом алгоритме строятся параллельно и независимо."
   ],
   "metadata": {
    "collapsed": false
   },
   "id": "b8a213e960c33932"
  },
  {
   "cell_type": "code",
   "execution_count": 29,
   "outputs": [],
   "source": [
    "import numpy as np\n",
    "import pandas as pd\n",
    "from matplotlib import pyplot as plt\n",
    "from sklearn.model_selection import TimeSeriesSplit\n",
    "from sklearn.ensemble import RandomForestRegressor\n",
    "import optuna"
   ],
   "metadata": {
    "collapsed": false,
    "ExecuteTime": {
     "end_time": "2024-04-16T19:49:45.143188100Z",
     "start_time": "2024-04-16T19:49:45.053224600Z"
    }
   },
   "id": "18d800fd6d05ae34"
  },
  {
   "cell_type": "code",
   "execution_count": 30,
   "outputs": [],
   "source": [
    "RANDOM_STATE = 42\n",
    "np.random.seed(RANDOM_STATE)"
   ],
   "metadata": {
    "collapsed": false,
    "ExecuteTime": {
     "end_time": "2024-04-16T19:49:45.160187600Z",
     "start_time": "2024-04-16T19:49:45.059673Z"
    }
   },
   "id": "c3ae9394262d43be"
  },
  {
   "cell_type": "code",
   "execution_count": 31,
   "outputs": [],
   "source": [
    "df = pd.read_csv('../data/extract/data.csv')"
   ],
   "metadata": {
    "collapsed": false,
    "ExecuteTime": {
     "end_time": "2024-04-16T19:49:45.241992800Z",
     "start_time": "2024-04-16T19:49:45.062188Z"
    }
   },
   "id": "561459c52d81d45e"
  },
  {
   "cell_type": "code",
   "execution_count": 32,
   "outputs": [
    {
     "data": {
      "text/plain": "   Unnamed: 0  Цена соевого масла_Роттердам__root_mean_square_x  \\\n0           0                                        897.281784   \n1           1                                        897.281784   \n2           2                                        897.281784   \n3           3                                        897.281784   \n4           4                                        897.281784   \n\n   Цена сырого пальмового масла__maximum_x  \\\n0                                   1485.0   \n1                                   1485.0   \n2                                   1485.0   \n3                                   1485.0   \n4                                   1485.0   \n\n   Цена сырого пальмового масла__root_mean_square_x  \\\n0                                        871.823491   \n1                                        871.823491   \n2                                        871.823491   \n3                                        871.823491   \n4                                        871.823491   \n\n   Цена соевого масла_Роттердам__linear_trend__attr_\"pvalue\"_X1  \\\n0                                       3.068082e-52              \n1                                       3.068082e-52              \n2                                       3.068082e-52              \n3                                       3.068082e-52              \n4                                       3.068082e-52              \n\n   Цена соевого масла_Аргентина__standard_deviation_X1  \\\n0                                         233.296209     \n1                                         233.296209     \n2                                         233.296209     \n3                                         233.296209     \n4                                         233.296209     \n\n   Цена пальмового масла_Аргентина__root_mean_square_X1  \\\n0                                          977.98713      \n1                                          977.98713      \n2                                          977.98713      \n3                                          977.98713      \n4                                          977.98713      \n\n   Цена соевого масла_Аргентина__variance_X1  \\\n0                               54427.121024   \n1                               54427.121024   \n2                               54427.121024   \n3                               54427.121024   \n4                               54427.121024   \n\n   Цена соевого масла_Бразилия__standard_deviation_X1  \\\n0                                         235.145601    \n1                                         235.145601    \n2                                         235.145601    \n3                                         235.145601    \n4                                         235.145601    \n\n   Цена соевого масла_Бразилия__variance_X1  ...  \\\n0                              55293.453658  ...   \n1                              55293.453658  ...   \n2                              55293.453658  ...   \n3                              55293.453658  ...   \n4                              55293.453658  ...   \n\n   Цена соевого масла_Бразилия__length_week  \\\n0                                     682.0   \n1                                     682.0   \n2                                     681.0   \n3                                     681.0   \n4                                     681.0   \n\n   Цена соевого масла_Бразилия__mean_week  \\\n0                              947.196334   \n1                              946.779912   \n2                              947.314831   \n3                              946.309104   \n4                              946.632159   \n\n   Цена соевого масла_Бразилия__median_week  \\\n0                                     878.0   \n1                                     873.6   \n2                                     874.6   \n3                                     875.7   \n4                                     873.7   \n\n   Цена соевого масла_Бразилия__sum_values_week  \\\n0                                      645987.9   \n1                                      645703.9   \n2                                      645121.4   \n3                                      644436.5   \n4                                      644656.5   \n\n   Цена соевого масла_Аргентина__linear_trend__attr_\"slope\"_week  \\\n0                                           0.108246               \n1                                           0.106434               \n2                                           0.109991               \n3                                           0.101916               \n4                                           0.107420               \n\n   Цена соевого масла_Аргентина__linear_trend__attr_\"pvalue\"_week  \\\n0                                           0.040672                \n1                                           0.043488                \n2                                           0.038626                \n3                                           0.053841                \n4                                           0.042281                \n\n   Цена соевого масла_Аргентина__minimum_week  \\\n0                                      555.57   \n1                                      556.01   \n2                                      547.19   \n3                                      552.04   \n4                                      561.74   \n\n   Цена сырого пальмового масла__median_week        date  \\\n0                                    765.000  2011-01-17   \n1                                    768.125  2011-01-18   \n2                                    765.000  2011-01-19   \n3                                    767.500  2011-01-20   \n4                                    767.500  2011-01-21   \n\n   Цена сырого пальмового масла  \n0                        1215.0  \n1                        1205.0  \n2                        1245.0  \n3                        1245.0  \n4                        1255.0  \n\n[5 rows x 196 columns]",
      "text/html": "<div>\n<style scoped>\n    .dataframe tbody tr th:only-of-type {\n        vertical-align: middle;\n    }\n\n    .dataframe tbody tr th {\n        vertical-align: top;\n    }\n\n    .dataframe thead th {\n        text-align: right;\n    }\n</style>\n<table border=\"1\" class=\"dataframe\">\n  <thead>\n    <tr style=\"text-align: right;\">\n      <th></th>\n      <th>Unnamed: 0</th>\n      <th>Цена соевого масла_Роттердам__root_mean_square_x</th>\n      <th>Цена сырого пальмового масла__maximum_x</th>\n      <th>Цена сырого пальмового масла__root_mean_square_x</th>\n      <th>Цена соевого масла_Роттердам__linear_trend__attr_\"pvalue\"_X1</th>\n      <th>Цена соевого масла_Аргентина__standard_deviation_X1</th>\n      <th>Цена пальмового масла_Аргентина__root_mean_square_X1</th>\n      <th>Цена соевого масла_Аргентина__variance_X1</th>\n      <th>Цена соевого масла_Бразилия__standard_deviation_X1</th>\n      <th>Цена соевого масла_Бразилия__variance_X1</th>\n      <th>...</th>\n      <th>Цена соевого масла_Бразилия__length_week</th>\n      <th>Цена соевого масла_Бразилия__mean_week</th>\n      <th>Цена соевого масла_Бразилия__median_week</th>\n      <th>Цена соевого масла_Бразилия__sum_values_week</th>\n      <th>Цена соевого масла_Аргентина__linear_trend__attr_\"slope\"_week</th>\n      <th>Цена соевого масла_Аргентина__linear_trend__attr_\"pvalue\"_week</th>\n      <th>Цена соевого масла_Аргентина__minimum_week</th>\n      <th>Цена сырого пальмового масла__median_week</th>\n      <th>date</th>\n      <th>Цена сырого пальмового масла</th>\n    </tr>\n  </thead>\n  <tbody>\n    <tr>\n      <th>0</th>\n      <td>0</td>\n      <td>897.281784</td>\n      <td>1485.0</td>\n      <td>871.823491</td>\n      <td>3.068082e-52</td>\n      <td>233.296209</td>\n      <td>977.98713</td>\n      <td>54427.121024</td>\n      <td>235.145601</td>\n      <td>55293.453658</td>\n      <td>...</td>\n      <td>682.0</td>\n      <td>947.196334</td>\n      <td>878.0</td>\n      <td>645987.9</td>\n      <td>0.108246</td>\n      <td>0.040672</td>\n      <td>555.57</td>\n      <td>765.000</td>\n      <td>2011-01-17</td>\n      <td>1215.0</td>\n    </tr>\n    <tr>\n      <th>1</th>\n      <td>1</td>\n      <td>897.281784</td>\n      <td>1485.0</td>\n      <td>871.823491</td>\n      <td>3.068082e-52</td>\n      <td>233.296209</td>\n      <td>977.98713</td>\n      <td>54427.121024</td>\n      <td>235.145601</td>\n      <td>55293.453658</td>\n      <td>...</td>\n      <td>682.0</td>\n      <td>946.779912</td>\n      <td>873.6</td>\n      <td>645703.9</td>\n      <td>0.106434</td>\n      <td>0.043488</td>\n      <td>556.01</td>\n      <td>768.125</td>\n      <td>2011-01-18</td>\n      <td>1205.0</td>\n    </tr>\n    <tr>\n      <th>2</th>\n      <td>2</td>\n      <td>897.281784</td>\n      <td>1485.0</td>\n      <td>871.823491</td>\n      <td>3.068082e-52</td>\n      <td>233.296209</td>\n      <td>977.98713</td>\n      <td>54427.121024</td>\n      <td>235.145601</td>\n      <td>55293.453658</td>\n      <td>...</td>\n      <td>681.0</td>\n      <td>947.314831</td>\n      <td>874.6</td>\n      <td>645121.4</td>\n      <td>0.109991</td>\n      <td>0.038626</td>\n      <td>547.19</td>\n      <td>765.000</td>\n      <td>2011-01-19</td>\n      <td>1245.0</td>\n    </tr>\n    <tr>\n      <th>3</th>\n      <td>3</td>\n      <td>897.281784</td>\n      <td>1485.0</td>\n      <td>871.823491</td>\n      <td>3.068082e-52</td>\n      <td>233.296209</td>\n      <td>977.98713</td>\n      <td>54427.121024</td>\n      <td>235.145601</td>\n      <td>55293.453658</td>\n      <td>...</td>\n      <td>681.0</td>\n      <td>946.309104</td>\n      <td>875.7</td>\n      <td>644436.5</td>\n      <td>0.101916</td>\n      <td>0.053841</td>\n      <td>552.04</td>\n      <td>767.500</td>\n      <td>2011-01-20</td>\n      <td>1245.0</td>\n    </tr>\n    <tr>\n      <th>4</th>\n      <td>4</td>\n      <td>897.281784</td>\n      <td>1485.0</td>\n      <td>871.823491</td>\n      <td>3.068082e-52</td>\n      <td>233.296209</td>\n      <td>977.98713</td>\n      <td>54427.121024</td>\n      <td>235.145601</td>\n      <td>55293.453658</td>\n      <td>...</td>\n      <td>681.0</td>\n      <td>946.632159</td>\n      <td>873.7</td>\n      <td>644656.5</td>\n      <td>0.107420</td>\n      <td>0.042281</td>\n      <td>561.74</td>\n      <td>767.500</td>\n      <td>2011-01-21</td>\n      <td>1255.0</td>\n    </tr>\n  </tbody>\n</table>\n<p>5 rows × 196 columns</p>\n</div>"
     },
     "execution_count": 32,
     "metadata": {},
     "output_type": "execute_result"
    }
   ],
   "source": [
    "df.head()"
   ],
   "metadata": {
    "collapsed": false,
    "ExecuteTime": {
     "end_time": "2024-04-16T19:49:45.278693700Z",
     "start_time": "2024-04-16T19:49:45.267651200Z"
    }
   },
   "id": "c70f92277715161e"
  },
  {
   "cell_type": "code",
   "execution_count": 33,
   "outputs": [],
   "source": [
    "X = df.drop(['Цена сырого пальмового масла', 'date'], axis=1)\n",
    "y = df['Цена сырого пальмового масла']"
   ],
   "metadata": {
    "collapsed": false,
    "ExecuteTime": {
     "end_time": "2024-04-16T19:49:45.279692600Z",
     "start_time": "2024-04-16T19:49:45.267651200Z"
    }
   },
   "id": "2a2ee1086a3ebe24"
  },
  {
   "cell_type": "code",
   "execution_count": 34,
   "outputs": [],
   "source": [
    "def mape(y_true, y_pred):\n",
    "    return np.mean(np.abs((y_true - y_pred) / y_true)) * 100"
   ],
   "metadata": {
    "collapsed": false,
    "ExecuteTime": {
     "end_time": "2024-04-16T19:49:45.279692600Z",
     "start_time": "2024-04-16T19:49:45.274177200Z"
    }
   },
   "id": "b54ae522e93633bd"
  },
  {
   "cell_type": "code",
   "execution_count": null,
   "outputs": [
    {
     "name": "stderr",
     "output_type": "stream",
     "text": [
      "[I 2024-04-16 22:49:45,281] A new study created in memory with name: no-name-e1251904-fa00-4daf-a3a1-4876ea58ef78\n",
      "[I 2024-04-16 22:52:57,614] Trial 0 finished with value: 14.472852630031586 and parameters: {'n_estimators': 492, 'max_depth': 46, 'min_samples_split': 18, 'min_samples_leaf': 2, 'max_features': 0.7585267463009866}. Best is trial 0 with value: 14.472852630031586.\n"
     ]
    }
   ],
   "source": [
    "def objective(trial):\n",
    "    param = {\n",
    "        'n_estimators': trial.suggest_int('n_estimators', 10, 1000),\n",
    "        'max_depth': trial.suggest_int('max_depth', 8, 50),\n",
    "        'min_samples_split': trial.suggest_int('min_samples_split', 2, 20),\n",
    "        'min_samples_leaf': trial.suggest_int('min_samples_leaf', 1, 10),\n",
    "        'max_features': trial.suggest_float('max_features', .0, 1.),\n",
    "        'random_state': 42,\n",
    "        'n_jobs': -1\n",
    "    }\n",
    "\n",
    "    tscv = TimeSeriesSplit(n_splits=100)\n",
    "    mape_arr = []\n",
    "\n",
    "    for train_index, test_index in tscv.split(X):\n",
    "        X_train, X_test = X.iloc[train_index], X.iloc[test_index]\n",
    "        y_train, y_test = y.iloc[train_index], y.iloc[test_index]\n",
    "\n",
    "        model = RandomForestRegressor(**param)\n",
    "        model.fit(X_train, y_train)\n",
    "\n",
    "        y_pred = model.predict(X_test)\n",
    "\n",
    "        mape_arr.append(mape(y_test, y_pred))\n",
    "\n",
    "    return np.mean(mape_arr) + np.std(mape_arr)\n",
    "\n",
    "\n",
    "study = optuna.create_study(direction='minimize')\n",
    "study.optimize(objective, n_trials=10)"
   ],
   "metadata": {
    "collapsed": false,
    "is_executing": true,
    "ExecuteTime": {
     "start_time": "2024-04-16T19:49:45.281693700Z"
    }
   },
   "id": "9fc3c6150c8ae47d"
  },
  {
   "cell_type": "code",
   "execution_count": null,
   "outputs": [],
   "source": [
    "best_params = study.best_params"
   ],
   "metadata": {
    "collapsed": false,
    "is_executing": true
   },
   "id": "862b642e94a01c19"
  },
  {
   "cell_type": "code",
   "execution_count": null,
   "outputs": [],
   "source": [
    "best_model = RandomForestRegressor(**best_params)\n",
    "\n",
    "train = df.set_index('date').loc[:'2024-01-01']\n",
    "test = df.set_index('date').loc['2024-01-01':]\n",
    "\n",
    "\n",
    "X_train = train.drop('Цена сырого пальмового масла', axis=1)\n",
    "y_train = train['Цена сырого пальмового масла']\n",
    "\n",
    "X_test = test.drop('Цена сырого пальмового масла', axis=1)\n",
    "y_test = test['Цена сырого пальмового масла']\n",
    "\n",
    "\n",
    "best_model.fit(X_train, y_train)\n",
    "\n",
    "\n",
    "y_pred = best_model.predict(X_test)\n",
    "\n",
    "\n",
    "plt.figure(figsize=(20, 7), dpi=300)\n",
    "plt.plot(X_test.index, y_test, label='Actual Price', color='blue')\n",
    "plt.plot(X_test.index, y_pred, label='Predicted Price', color='red')  # Возврат к исходной шкале\n",
    "plt.xlabel('Date')\n",
    "plt.xticks(rotation=90)\n",
    "plt.ylabel('Price')\n",
    "plt.ylim(600, 950)\n",
    "plt.title('Actual vs Predicted Price')\n",
    "plt.legend()\n",
    "plt.show()\n",
    "\n",
    "print(\"MAPE\", mape(y_test, y_pred))"
   ],
   "metadata": {
    "collapsed": false,
    "is_executing": true
   },
   "id": "5b152f0aecbf9c85"
  }
 ],
 "metadata": {
  "kernelspec": {
   "display_name": "Python 3",
   "language": "python",
   "name": "python3"
  },
  "language_info": {
   "codemirror_mode": {
    "name": "ipython",
    "version": 2
   },
   "file_extension": ".py",
   "mimetype": "text/x-python",
   "name": "python",
   "nbconvert_exporter": "python",
   "pygments_lexer": "ipython2",
   "version": "2.7.6"
  }
 },
 "nbformat": 4,
 "nbformat_minor": 5
}
